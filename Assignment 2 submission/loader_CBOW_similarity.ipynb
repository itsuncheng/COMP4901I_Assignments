{
  "nbformat": 4,
  "nbformat_minor": 0,
  "metadata": {
    "colab": {
      "name": "loader_CBOW_similarity.ipynb",
      "version": "0.3.2",
      "provenance": [],
      "collapsed_sections": []
    },
    "kernelspec": {
      "name": "python3",
      "display_name": "Python 3"
    },
    "accelerator": "GPU"
  },
  "cells": [
    {
      "metadata": {
        "id": "7eDY_uaaOmse",
        "colab_type": "text"
      },
      "cell_type": "markdown",
      "source": [
        "## Google Colaboratory Setup"
      ]
    },
    {
      "metadata": {
        "id": "DIgdyuy4Gvyr",
        "colab_type": "code",
        "outputId": "9e6583da-7756-4e90-f425-201eee6300bf",
        "colab": {
          "base_uri": "https://localhost:8080/",
          "height": 34
        }
      },
      "cell_type": "code",
      "source": [
        "# Install a Drive FUSE wrapper.\n",
        "# https://github.com/astrada/google-drive-ocamlfuse\n",
        "!apt-get install -y -qq software-properties-common python-software-properties module-init-tools\n",
        "!add-apt-repository -y ppa:alessandro-strada/ppa 2>&1 > /dev/null\n",
        "!apt-get update -qq 2>&1 > /dev/null\n",
        "!apt-get -y install -qq google-drive-ocamlfuse fuse"
      ],
      "execution_count": 0,
      "outputs": [
        {
          "output_type": "stream",
          "text": [
            "E: Package 'python-software-properties' has no installation candidate\n"
          ],
          "name": "stdout"
        }
      ]
    },
    {
      "metadata": {
        "id": "m0ROtvuXHnMX",
        "colab_type": "code",
        "colab": {}
      },
      "cell_type": "code",
      "source": [
        "# Generate auth tokens for Colab\n",
        "from google.colab import auth\n",
        "auth.authenticate_user()"
      ],
      "execution_count": 0,
      "outputs": []
    },
    {
      "metadata": {
        "id": "g0LAfWvKHvxy",
        "colab_type": "code",
        "outputId": "d62f93f9-baee-4b9b-996f-9aff7aed1ae3",
        "colab": {
          "base_uri": "https://localhost:8080/",
          "height": 34
        }
      },
      "cell_type": "code",
      "source": [
        "# Generate creds for the Drive FUSE library.\n",
        "from oauth2client.client import GoogleCredentials\n",
        "creds = GoogleCredentials.get_application_default()\n",
        "import getpass\n",
        "!google-drive-ocamlfuse -headless -id={creds.client_id} -secret={creds.client_secret} < /dev/null 2>&1 | grep URL\n",
        "vcode = getpass.getpass()\n",
        "!echo {vcode} | google-drive-ocamlfuse -headless -id={creds.client_id} -secret={creds.client_secret}"
      ],
      "execution_count": 0,
      "outputs": [
        {
          "output_type": "stream",
          "text": [
            "··········\n"
          ],
          "name": "stdout"
        }
      ]
    },
    {
      "metadata": {
        "id": "rK7ok2GyHyv-",
        "colab_type": "code",
        "outputId": "1f4a5152-abbb-4bcd-81b6-061c3be8aa66",
        "colab": {
          "base_uri": "https://localhost:8080/",
          "height": 51
        }
      },
      "cell_type": "code",
      "source": [
        "# Create a directory and mount Google Drive using that directory.\n",
        "!mkdir -p drive\n",
        "!google-drive-ocamlfuse drive"
      ],
      "execution_count": 0,
      "outputs": [
        {
          "output_type": "stream",
          "text": [
            "fuse: mountpoint is not empty\n",
            "fuse: if you are sure this is safe, use the 'nonempty' mount option\n"
          ],
          "name": "stdout"
        }
      ]
    },
    {
      "metadata": {
        "id": "n60WIcWaH0Qb",
        "colab_type": "code",
        "colab": {}
      },
      "cell_type": "code",
      "source": [
        "# http://pytorch.org/\n",
        "from os import path\n",
        "from wheel.pep425tags import get_abbr_impl, get_impl_ver, get_abi_tag\n",
        "platform = '{}{}-{}'.format(get_abbr_impl(), get_impl_ver(), get_abi_tag())\n",
        "\n",
        "accelerator = 'cu80' if path.exists('/opt/bin/nvidia-smi') else 'cpu'\n",
        "\n",
        "!pip install -q http://download.pytorch.org/whl/{accelerator}/torch-0.4.0-{platform}-linux_x86_64.whl torchvision"
      ],
      "execution_count": 0,
      "outputs": []
    },
    {
      "metadata": {
        "id": "sj9Vr8bUOvYQ",
        "colab_type": "text"
      },
      "cell_type": "markdown",
      "source": [
        "## Code"
      ]
    },
    {
      "metadata": {
        "id": "4S0MciFlPO9y",
        "colab_type": "text"
      },
      "cell_type": "markdown",
      "source": [
        "### loader.py"
      ]
    },
    {
      "metadata": {
        "id": "wqAfUi-gIeqi",
        "colab_type": "code",
        "colab": {}
      },
      "cell_type": "code",
      "source": [
        "from torch.utils.data import Dataset, DataLoader\n",
        "import re\n",
        "import gzip\n",
        "from collections import Counter\n",
        "\n",
        "def clean_str(string):\n",
        "    string = re.sub(r\"[^A-Za-z0-9(),!?\\'\\`]\", \" \", string)\n",
        "    string = re.sub(r\"\\'s\", \" \\'s\", string) \n",
        "    string = re.sub(r\"\\'ve\", \" \\'ve\", string) \n",
        "    string = re.sub(r\"n\\'t\", \" n\\'t\", string) \n",
        "    string = re.sub(r\"\\'re\", \" \\'re\", string) \n",
        "    string = re.sub(r\"\\'d\", \" \\'d\", string) \n",
        "    string = re.sub(r\"\\'ll\", \" \\'ll\", string) \n",
        "    string = re.sub(r\",\", \" , \", string) \n",
        "    string = re.sub(r\"!\", \" ! \", string) \n",
        "    string = re.sub(r\"\\(\", \" \\( \", string) \n",
        "    string = re.sub(r\"\\)\", \" \\) \", string) \n",
        "    string = re.sub(r\"\\?\", \" \\? \", string) \n",
        "    string = re.sub(r\"\\s{2,}\", \" \", string)\n",
        "    return string.strip().lower()\n",
        "\n",
        "class MyData(Dataset):\n",
        "    def __init__(self, filename, vocab_size):\n",
        "        total_str = []\n",
        "        \n",
        "        f = open(filename, \"r+\", encoding='utf-8',errors='ignore')\n",
        "        for line in f:\n",
        "            cleaned_str = clean_str(\" \".join(line.split('\\t')[1:]))\n",
        "            total_str.append(cleaned_str)\n",
        "        i\n",
        "        total_str = \" \".join(total_str)\n",
        "        words = total_str.split()\n",
        "        \n",
        "        self.vocab = dict(Counter(words).most_common(vocab_size-1))\n",
        "        self.index2word = ['UNK'] + [word for word in self.vocab]\n",
        "        self.word2index = {word:idx for idx, word in enumerate(self.index2word)}\n",
        "        self.vocab_size = len(self.index2word)\n",
        "        \n",
        "        # change words not in vocab to 'UNK'\n",
        "        for i in range(len(words)):\n",
        "            if words[i] not in self.vocab:\n",
        "                words[i] = 'UNK'\n",
        "        # store context_target\n",
        "        self.context_target = []\n",
        "        for i in range(0+2, len(words)-2):\n",
        "            c_t_tuple = (words[i-2:i] + words[i+1:i+3], words[i])\n",
        "            self.context_target.append(c_t_tuple)\n",
        "\n",
        "        \n",
        "    def __getitem__(self, index):\n",
        "        context = torch.tensor([self.word2index[word] for word in self.context_target[index][0]])\n",
        "        target = torch.tensor(self.word2index[self.context_target[index][1]])\n",
        "        return context, target\n",
        "    \n",
        "    def __len__(self):\n",
        "        return self.vocab_size\n"
      ],
      "execution_count": 0,
      "outputs": []
    },
    {
      "metadata": {
        "id": "aeOo9vrVLI0G",
        "colab_type": "code",
        "colab": {}
      },
      "cell_type": "code",
      "source": [
        "vocab_size = 10000\n",
        "filename=\"drive/reviews_data.txt\"\n",
        "dataset = MyData(filename, vocab_size)\n",
        "\n",
        "from torch.utils.data import DataLoader\n",
        "bsz = 32\n",
        "train_loader = DataLoader(dataset=dataset,\n",
        "                         batch_size=bsz,\n",
        "                         shuffle=True)"
      ],
      "execution_count": 0,
      "outputs": []
    },
    {
      "metadata": {
        "id": "W6md-KyRPRV2",
        "colab_type": "text"
      },
      "cell_type": "markdown",
      "source": [
        "### CBOW.py"
      ]
    },
    {
      "metadata": {
        "id": "1ThCuIFpLLDL",
        "colab_type": "code",
        "colab": {}
      },
      "cell_type": "code",
      "source": [
        "import torch\n",
        "import torch.nn as nn\n",
        "import torch.nn.functional as F\n",
        "import torch.optim as optim\n",
        "\n",
        "word2index = dataset.word2index\n",
        "vocab = dataset.vocab\n",
        "\n",
        "class CBOW(torch.nn.Module):\n",
        "    def __init__(self, vocab_size, embedding_dim, hidden_dim):\n",
        "        super(CBOW, self).__init__()\n",
        "        self.embeddings = nn.Embedding(vocab_size, embedding_dim)\n",
        "        self.hidden = nn.Linear(embedding_dim, hidden_dim)\n",
        "        self.output = nn.Linear(hidden_dim, vocab_size)\n",
        "\n",
        "    def forward(self, inputs):\n",
        "        # print(\"inputs.shape: \", inputs.shape)\n",
        "        embeds = self.embeddings(inputs)\n",
        "        # print(\"embeds.shape: \", embeds.shape)\n",
        "        embeds = torch.sum(embeds, dim=1)\n",
        "        # print(\"hidden.shape: \", hidden.shape)\n",
        "        hidden = self.hidden(embeds)\n",
        "        # print(\"out.shape: \", out.shape)\n",
        "        out = self.output(hidden)\n",
        "        log_probs = F.log_softmax(out, dim=1)\n",
        "        # print(\"log_probs.shape: \", log_probs.shape)\n",
        "        return log_probs\n",
        "    \n",
        "    def get_word_embedding(self, word):\n",
        "        if word in vocab:\n",
        "          word_vector = self.embeddings(torch.LongTensor([word2index[word]]).cuda()).view(-1)\n",
        "        else:\n",
        "          word_vector = self.embeddings(torch.LongTensor([word2index['UNK']]).cuda()).view(-1)\n",
        "        return word_vector"
      ],
      "execution_count": 0,
      "outputs": []
    },
    {
      "metadata": {
        "id": "wAXVoVYtPXtH",
        "colab_type": "text"
      },
      "cell_type": "markdown",
      "source": [
        "### main.py\n",
        "Only the best hyperparameter configuration is trained here. Look at the report for other configurations and their resulting losses."
      ]
    },
    {
      "metadata": {
        "id": "TrKIFBJvLOHa",
        "colab_type": "code",
        "outputId": "95eea8bc-87d9-4e89-83dc-9b7161e82b7d",
        "colab": {
          "base_uri": "https://localhost:8080/",
          "height": 1377
        }
      },
      "cell_type": "code",
      "source": [
        "from tqdm import tqdm\n",
        "\n",
        "num_epochs = 40\n",
        "embedding_size = 300\n",
        "hidden_size = 150\n",
        "learning_rate = 0.01\n",
        "\n",
        "model = CBOW(len(dataset), embedding_size, hidden_size)\n",
        "model.train()\n",
        "\n",
        "criterion = nn.CrossEntropyLoss()\n",
        "optimizer = optim.SGD(model.parameters(), lr=learning_rate, momentum=0.5)\n",
        "\n",
        "cuda_available = torch.cuda.is_available()\n",
        "\n",
        "for epoch in range(num_epochs):\n",
        "  total_loss = 0\n",
        "  for batch_idx, (context, target) in enumerate(tqdm(train_loader)):\n",
        "    \n",
        "      if cuda_available:\n",
        "        context = context.cuda()\n",
        "        target = target.cuda()\n",
        "        model = model.cuda()\n",
        "        \n",
        "      optimizer.zero_grad()\n",
        "      output = model(context)\n",
        "      # target = target.view(-1)\n",
        "      # print(\"output: \", output)\n",
        "      # print(\"target: \", target)\n",
        "      # print(\"torch.max: \", torch.max(output, 1)[1])\n",
        "      loss = criterion(output, target)\n",
        "      loss.backward()\n",
        "      optimizer.step()\n",
        "      # if batch_idx % 10 == 0:\n",
        "      total_loss += loss.data\n",
        "\n",
        "  loss_avg = float(total_loss / len(train_loader))\n",
        "  print(\" {}/{} loss {:.4f}\".format(epoch+1, num_epochs, loss_avg))\n"
      ],
      "execution_count": 0,
      "outputs": [
        {
          "output_type": "stream",
          "text": [
            "100%|██████████| 313/313 [00:01<00:00, 302.09it/s]\n",
            " 11%|█         | 35/313 [00:00<00:00, 341.99it/s]"
          ],
          "name": "stderr"
        },
        {
          "output_type": "stream",
          "text": [
            " 1/40 loss 8.2808\n"
          ],
          "name": "stdout"
        },
        {
          "output_type": "stream",
          "text": [
            "100%|██████████| 313/313 [00:00<00:00, 336.19it/s]\n",
            " 11%|█         | 34/313 [00:00<00:00, 339.61it/s]"
          ],
          "name": "stderr"
        },
        {
          "output_type": "stream",
          "text": [
            " 2/40 loss 6.7534\n"
          ],
          "name": "stdout"
        },
        {
          "output_type": "stream",
          "text": [
            "100%|██████████| 313/313 [00:00<00:00, 336.14it/s]\n",
            " 11%|█         | 35/313 [00:00<00:00, 344.93it/s]"
          ],
          "name": "stderr"
        },
        {
          "output_type": "stream",
          "text": [
            " 3/40 loss 6.0572\n"
          ],
          "name": "stdout"
        },
        {
          "output_type": "stream",
          "text": [
            "100%|██████████| 313/313 [00:00<00:00, 333.30it/s]\n",
            " 11%|█         | 34/313 [00:00<00:00, 336.40it/s]"
          ],
          "name": "stderr"
        },
        {
          "output_type": "stream",
          "text": [
            " 4/40 loss 5.5891\n"
          ],
          "name": "stdout"
        },
        {
          "output_type": "stream",
          "text": [
            "100%|██████████| 313/313 [00:00<00:00, 333.20it/s]\n",
            " 11%|█         | 35/313 [00:00<00:00, 341.24it/s]"
          ],
          "name": "stderr"
        },
        {
          "output_type": "stream",
          "text": [
            " 5/40 loss 5.2183\n"
          ],
          "name": "stdout"
        },
        {
          "output_type": "stream",
          "text": [
            "100%|██████████| 313/313 [00:00<00:00, 334.50it/s]\n",
            " 11%|█         | 34/313 [00:00<00:00, 335.82it/s]"
          ],
          "name": "stderr"
        },
        {
          "output_type": "stream",
          "text": [
            " 6/40 loss 4.8953\n"
          ],
          "name": "stdout"
        },
        {
          "output_type": "stream",
          "text": [
            "100%|██████████| 313/313 [00:00<00:00, 334.09it/s]\n",
            " 11%|█         | 35/313 [00:00<00:00, 340.82it/s]"
          ],
          "name": "stderr"
        },
        {
          "output_type": "stream",
          "text": [
            " 7/40 loss 4.6122\n"
          ],
          "name": "stdout"
        },
        {
          "output_type": "stream",
          "text": [
            "100%|██████████| 313/313 [00:00<00:00, 332.66it/s]\n",
            " 11%|█         | 34/313 [00:00<00:00, 339.92it/s]"
          ],
          "name": "stderr"
        },
        {
          "output_type": "stream",
          "text": [
            " 8/40 loss 4.3513\n"
          ],
          "name": "stdout"
        },
        {
          "output_type": "stream",
          "text": [
            "100%|██████████| 313/313 [00:00<00:00, 334.24it/s]\n",
            " 11%|█         | 34/313 [00:00<00:00, 339.94it/s]"
          ],
          "name": "stderr"
        },
        {
          "output_type": "stream",
          "text": [
            " 9/40 loss 4.1090\n"
          ],
          "name": "stdout"
        },
        {
          "output_type": "stream",
          "text": [
            "100%|██████████| 313/313 [00:00<00:00, 332.96it/s]\n",
            " 11%|█         | 33/313 [00:00<00:00, 324.09it/s]"
          ],
          "name": "stderr"
        },
        {
          "output_type": "stream",
          "text": [
            " 10/40 loss 3.8782\n"
          ],
          "name": "stdout"
        },
        {
          "output_type": "stream",
          "text": [
            "100%|██████████| 313/313 [00:00<00:00, 332.85it/s]\n",
            " 11%|█         | 34/313 [00:00<00:00, 339.43it/s]"
          ],
          "name": "stderr"
        },
        {
          "output_type": "stream",
          "text": [
            " 11/40 loss 3.6659\n"
          ],
          "name": "stdout"
        },
        {
          "output_type": "stream",
          "text": [
            "100%|██████████| 313/313 [00:00<00:00, 332.46it/s]\n",
            " 11%|█         | 35/313 [00:00<00:00, 341.04it/s]"
          ],
          "name": "stderr"
        },
        {
          "output_type": "stream",
          "text": [
            " 12/40 loss 3.4536\n"
          ],
          "name": "stdout"
        },
        {
          "output_type": "stream",
          "text": [
            "100%|██████████| 313/313 [00:00<00:00, 332.08it/s]\n",
            " 11%|█         | 35/313 [00:00<00:00, 341.99it/s]"
          ],
          "name": "stderr"
        },
        {
          "output_type": "stream",
          "text": [
            " 13/40 loss 3.2625\n"
          ],
          "name": "stdout"
        },
        {
          "output_type": "stream",
          "text": [
            "100%|██████████| 313/313 [00:00<00:00, 333.07it/s]\n",
            " 11%|█         | 35/313 [00:00<00:00, 343.08it/s]"
          ],
          "name": "stderr"
        },
        {
          "output_type": "stream",
          "text": [
            " 14/40 loss 3.0757\n"
          ],
          "name": "stdout"
        },
        {
          "output_type": "stream",
          "text": [
            "100%|██████████| 313/313 [00:00<00:00, 334.77it/s]\n",
            " 11%|█         | 34/313 [00:00<00:00, 336.11it/s]"
          ],
          "name": "stderr"
        },
        {
          "output_type": "stream",
          "text": [
            " 15/40 loss 2.9002\n"
          ],
          "name": "stdout"
        },
        {
          "output_type": "stream",
          "text": [
            "100%|██████████| 313/313 [00:00<00:00, 334.87it/s]\n",
            " 11%|█         | 35/313 [00:00<00:00, 341.49it/s]"
          ],
          "name": "stderr"
        },
        {
          "output_type": "stream",
          "text": [
            " 16/40 loss 2.7356\n"
          ],
          "name": "stdout"
        },
        {
          "output_type": "stream",
          "text": [
            "100%|██████████| 313/313 [00:00<00:00, 333.80it/s]\n",
            " 11%|█         | 35/313 [00:00<00:00, 341.02it/s]"
          ],
          "name": "stderr"
        },
        {
          "output_type": "stream",
          "text": [
            " 17/40 loss 2.5794\n"
          ],
          "name": "stdout"
        },
        {
          "output_type": "stream",
          "text": [
            "100%|██████████| 313/313 [00:00<00:00, 334.62it/s]\n",
            " 11%|█         | 34/313 [00:00<00:00, 338.70it/s]"
          ],
          "name": "stderr"
        },
        {
          "output_type": "stream",
          "text": [
            " 18/40 loss 2.4451\n"
          ],
          "name": "stdout"
        },
        {
          "output_type": "stream",
          "text": [
            "100%|██████████| 313/313 [00:00<00:00, 332.75it/s]\n",
            " 11%|█         | 34/313 [00:00<00:00, 337.82it/s]"
          ],
          "name": "stderr"
        },
        {
          "output_type": "stream",
          "text": [
            " 19/40 loss 2.3157\n"
          ],
          "name": "stdout"
        },
        {
          "output_type": "stream",
          "text": [
            "100%|██████████| 313/313 [00:00<00:00, 333.51it/s]\n",
            " 11%|█         | 34/313 [00:00<00:00, 337.99it/s]"
          ],
          "name": "stderr"
        },
        {
          "output_type": "stream",
          "text": [
            " 20/40 loss 2.1997\n"
          ],
          "name": "stdout"
        },
        {
          "output_type": "stream",
          "text": [
            "100%|██████████| 313/313 [00:00<00:00, 331.76it/s]\n",
            " 11%|█         | 33/313 [00:00<00:00, 326.91it/s]"
          ],
          "name": "stderr"
        },
        {
          "output_type": "stream",
          "text": [
            " 21/40 loss 2.1006\n"
          ],
          "name": "stdout"
        },
        {
          "output_type": "stream",
          "text": [
            "100%|██████████| 313/313 [00:00<00:00, 329.82it/s]\n",
            " 11%|█         | 33/313 [00:00<00:00, 329.76it/s]"
          ],
          "name": "stderr"
        },
        {
          "output_type": "stream",
          "text": [
            " 22/40 loss 2.0055\n"
          ],
          "name": "stdout"
        },
        {
          "output_type": "stream",
          "text": [
            "100%|██████████| 313/313 [00:00<00:00, 334.38it/s]\n",
            " 11%|█         | 34/313 [00:00<00:00, 338.44it/s]"
          ],
          "name": "stderr"
        },
        {
          "output_type": "stream",
          "text": [
            " 23/40 loss 1.9205\n"
          ],
          "name": "stdout"
        },
        {
          "output_type": "stream",
          "text": [
            "100%|██████████| 313/313 [00:00<00:00, 334.69it/s]\n",
            " 11%|█         | 34/313 [00:00<00:00, 311.94it/s]"
          ],
          "name": "stderr"
        },
        {
          "output_type": "stream",
          "text": [
            " 24/40 loss 1.8457\n"
          ],
          "name": "stdout"
        },
        {
          "output_type": "stream",
          "text": [
            "100%|██████████| 313/313 [00:00<00:00, 331.65it/s]\n",
            " 11%|█         | 35/313 [00:00<00:00, 342.14it/s]"
          ],
          "name": "stderr"
        },
        {
          "output_type": "stream",
          "text": [
            " 25/40 loss 1.7759\n"
          ],
          "name": "stdout"
        },
        {
          "output_type": "stream",
          "text": [
            "100%|██████████| 313/313 [00:00<00:00, 335.20it/s]\n",
            " 11%|█         | 35/313 [00:00<00:00, 340.35it/s]"
          ],
          "name": "stderr"
        },
        {
          "output_type": "stream",
          "text": [
            " 26/40 loss 1.7103\n"
          ],
          "name": "stdout"
        },
        {
          "output_type": "stream",
          "text": [
            "100%|██████████| 313/313 [00:00<00:00, 334.52it/s]\n",
            " 11%|█         | 34/313 [00:00<00:00, 338.05it/s]"
          ],
          "name": "stderr"
        },
        {
          "output_type": "stream",
          "text": [
            " 27/40 loss 1.6581\n"
          ],
          "name": "stdout"
        },
        {
          "output_type": "stream",
          "text": [
            "100%|██████████| 313/313 [00:00<00:00, 332.31it/s]\n",
            " 11%|█         | 35/313 [00:00<00:00, 342.38it/s]"
          ],
          "name": "stderr"
        },
        {
          "output_type": "stream",
          "text": [
            " 28/40 loss 1.6101\n"
          ],
          "name": "stdout"
        },
        {
          "output_type": "stream",
          "text": [
            "100%|██████████| 313/313 [00:00<00:00, 333.91it/s]\n",
            " 11%|█         | 34/313 [00:00<00:00, 335.81it/s]"
          ],
          "name": "stderr"
        },
        {
          "output_type": "stream",
          "text": [
            " 29/40 loss 1.5625\n"
          ],
          "name": "stdout"
        },
        {
          "output_type": "stream",
          "text": [
            "100%|██████████| 313/313 [00:00<00:00, 333.03it/s]\n",
            " 11%|█         | 34/313 [00:00<00:00, 339.23it/s]"
          ],
          "name": "stderr"
        },
        {
          "output_type": "stream",
          "text": [
            " 30/40 loss 1.5210\n"
          ],
          "name": "stdout"
        },
        {
          "output_type": "stream",
          "text": [
            "100%|██████████| 313/313 [00:00<00:00, 331.61it/s]\n",
            " 11%|█         | 35/313 [00:00<00:00, 345.43it/s]"
          ],
          "name": "stderr"
        },
        {
          "output_type": "stream",
          "text": [
            " 31/40 loss 1.4783\n"
          ],
          "name": "stdout"
        },
        {
          "output_type": "stream",
          "text": [
            "100%|██████████| 313/313 [00:00<00:00, 333.71it/s]\n",
            " 11%|█         | 34/313 [00:00<00:00, 339.93it/s]"
          ],
          "name": "stderr"
        },
        {
          "output_type": "stream",
          "text": [
            " 32/40 loss 1.4427\n"
          ],
          "name": "stdout"
        },
        {
          "output_type": "stream",
          "text": [
            "100%|██████████| 313/313 [00:00<00:00, 334.63it/s]\n",
            " 11%|█         | 33/313 [00:00<00:00, 328.30it/s]"
          ],
          "name": "stderr"
        },
        {
          "output_type": "stream",
          "text": [
            " 33/40 loss 1.4087\n"
          ],
          "name": "stdout"
        },
        {
          "output_type": "stream",
          "text": [
            "100%|██████████| 313/313 [00:00<00:00, 333.78it/s]\n",
            " 11%|█         | 34/313 [00:00<00:00, 338.36it/s]"
          ],
          "name": "stderr"
        },
        {
          "output_type": "stream",
          "text": [
            " 34/40 loss 1.3747\n"
          ],
          "name": "stdout"
        },
        {
          "output_type": "stream",
          "text": [
            "100%|██████████| 313/313 [00:00<00:00, 330.43it/s]\n",
            " 11%|█         | 35/313 [00:00<00:00, 341.60it/s]"
          ],
          "name": "stderr"
        },
        {
          "output_type": "stream",
          "text": [
            " 35/40 loss 1.3504\n"
          ],
          "name": "stdout"
        },
        {
          "output_type": "stream",
          "text": [
            "100%|██████████| 313/313 [00:00<00:00, 332.11it/s]\n",
            " 11%|█         | 34/313 [00:00<00:00, 338.61it/s]"
          ],
          "name": "stderr"
        },
        {
          "output_type": "stream",
          "text": [
            " 36/40 loss 1.3174\n"
          ],
          "name": "stdout"
        },
        {
          "output_type": "stream",
          "text": [
            "100%|██████████| 313/313 [00:00<00:00, 333.77it/s]\n",
            " 11%|█         | 34/313 [00:00<00:00, 338.18it/s]"
          ],
          "name": "stderr"
        },
        {
          "output_type": "stream",
          "text": [
            " 37/40 loss 1.2961\n"
          ],
          "name": "stdout"
        },
        {
          "output_type": "stream",
          "text": [
            "100%|██████████| 313/313 [00:00<00:00, 333.41it/s]\n",
            " 11%|█         | 35/313 [00:00<00:00, 340.94it/s]"
          ],
          "name": "stderr"
        },
        {
          "output_type": "stream",
          "text": [
            " 38/40 loss 1.2697\n"
          ],
          "name": "stdout"
        },
        {
          "output_type": "stream",
          "text": [
            "100%|██████████| 313/313 [00:00<00:00, 333.72it/s]\n",
            " 11%|█         | 34/313 [00:00<00:00, 337.72it/s]"
          ],
          "name": "stderr"
        },
        {
          "output_type": "stream",
          "text": [
            " 39/40 loss 1.2472\n"
          ],
          "name": "stdout"
        },
        {
          "output_type": "stream",
          "text": [
            "100%|██████████| 313/313 [00:00<00:00, 330.78it/s]"
          ],
          "name": "stderr"
        },
        {
          "output_type": "stream",
          "text": [
            " 40/40 loss 1.2320\n"
          ],
          "name": "stdout"
        },
        {
          "output_type": "stream",
          "text": [
            "\n"
          ],
          "name": "stderr"
        }
      ]
    },
    {
      "metadata": {
        "id": "n9doZj8oLSpo",
        "colab_type": "code",
        "colab": {}
      },
      "cell_type": "code",
      "source": [
        "def get_similarity(word1, word2, model):\n",
        "  word_vector1 = model.get_word_embedding(word1).view(-1)\n",
        "  word_vector2 = model.get_word_embedding(word2).view(-1)\n",
        "  \n",
        "  return torch.dot(word_vector1, word_vector2)/(torch.norm(word_vector1) * torch.norm(word_vector2))"
      ],
      "execution_count": 0,
      "outputs": []
    },
    {
      "metadata": {
        "id": "Hbz-IBsWKBv4",
        "colab_type": "code",
        "outputId": "e1d6ec7f-568b-4577-cd80-f33cd50efeb1",
        "colab": {
          "base_uri": "https://localhost:8080/",
          "height": 51
        }
      },
      "cell_type": "code",
      "source": [
        "get_similarity('man','woman', model)"
      ],
      "execution_count": 0,
      "outputs": [
        {
          "output_type": "execute_result",
          "data": {
            "text/plain": [
              "tensor(1.00000e-02 *\n",
              "       9.8621, device='cuda:0')"
            ]
          },
          "metadata": {
            "tags": []
          },
          "execution_count": 175
        }
      ]
    },
    {
      "metadata": {
        "id": "rkgH6cr-IY9Y",
        "colab_type": "code",
        "outputId": "4b62d93f-57df-4fea-c935-ec2e5db324c0",
        "colab": {
          "base_uri": "https://localhost:8080/",
          "height": 51
        }
      },
      "cell_type": "code",
      "source": [
        "get_similarity('brother','sister', model)"
      ],
      "execution_count": 0,
      "outputs": [
        {
          "output_type": "execute_result",
          "data": {
            "text/plain": [
              "tensor(1.00000e-02 *\n",
              "       8.9651, device='cuda:0')"
            ]
          },
          "metadata": {
            "tags": []
          },
          "execution_count": 182
        }
      ]
    },
    {
      "metadata": {
        "id": "GBSt6kJLVWSl",
        "colab_type": "code",
        "outputId": "0a948d4e-ab36-41f0-c483-ca64b8b99d3e",
        "colab": {
          "base_uri": "https://localhost:8080/",
          "height": 51
        }
      },
      "cell_type": "code",
      "source": [
        "get_similarity('dog','cat', model)"
      ],
      "execution_count": 0,
      "outputs": [
        {
          "output_type": "execute_result",
          "data": {
            "text/plain": [
              "tensor(1.00000e-02 *\n",
              "       7.7766, device='cuda:0')"
            ]
          },
          "metadata": {
            "tags": []
          },
          "execution_count": 173
        }
      ]
    },
    {
      "metadata": {
        "id": "bJx37wcohhe2",
        "colab_type": "code",
        "outputId": "8a9f1d08-5f45-422c-dfa5-800b3a8a66e2",
        "colab": {
          "base_uri": "https://localhost:8080/",
          "height": 51
        }
      },
      "cell_type": "code",
      "source": [
        "get_similarity('chair','throw', model)"
      ],
      "execution_count": 0,
      "outputs": [
        {
          "output_type": "execute_result",
          "data": {
            "text/plain": [
              "tensor(1.00000e-02 *\n",
              "       1.7316, device='cuda:0')"
            ]
          },
          "metadata": {
            "tags": []
          },
          "execution_count": 177
        }
      ]
    },
    {
      "metadata": {
        "id": "ixzn7TVuP4VC",
        "colab_type": "code",
        "outputId": "7f3b751d-27ec-4858-bcfd-87bf97b51486",
        "colab": {
          "base_uri": "https://localhost:8080/",
          "height": 51
        }
      },
      "cell_type": "code",
      "source": [
        "get_similarity('you','i', model)"
      ],
      "execution_count": 0,
      "outputs": [
        {
          "output_type": "execute_result",
          "data": {
            "text/plain": [
              "tensor(1.00000e-02 *\n",
              "       -9.2692, device='cuda:0')"
            ]
          },
          "metadata": {
            "tags": []
          },
          "execution_count": 172
        }
      ]
    },
    {
      "metadata": {
        "id": "MbxmZYgPiUNC",
        "colab_type": "code",
        "colab": {}
      },
      "cell_type": "code",
      "source": [
        "import numpy as np\n",
        "\n",
        "word_emb_mat = model.embeddings.weight.cpu().detach().numpy()\n",
        "np.savetxt('drive/w_emb_mat.txt', word_emb_mat)\n"
      ],
      "execution_count": 0,
      "outputs": []
    },
    {
      "metadata": {
        "id": "e66VFrqKimEs",
        "colab_type": "code",
        "colab": {}
      },
      "cell_type": "code",
      "source": [
        "np.save('drive/word2index.npy', dataset.word2index)"
      ],
      "execution_count": 0,
      "outputs": []
    },
    {
      "metadata": {
        "id": "Zau-xF9pQBPt",
        "colab_type": "code",
        "colab": {}
      },
      "cell_type": "code",
      "source": [
        ""
      ],
      "execution_count": 0,
      "outputs": []
    }
  ]
}